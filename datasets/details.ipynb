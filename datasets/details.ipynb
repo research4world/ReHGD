{
 "cells": [
  {
   "cell_type": "markdown",
   "id": "b52530b4",
   "metadata": {},
   "source": [
    "The Details of Datasets, including Freebase_VolumeGenre, YAGO_AlmaMater, and DrugBank_DrugGroup"
   ]
  },
  {
   "cell_type": "code",
   "execution_count": 1,
   "id": "708d8a78",
   "metadata": {},
   "outputs": [],
   "source": [
    "import torch"
   ]
  },
  {
   "cell_type": "markdown",
   "id": "2158084d",
   "metadata": {},
   "source": [
    "### Freebase_VolumeGenre"
   ]
  },
  {
   "cell_type": "code",
   "execution_count": 2,
   "id": "0213661e",
   "metadata": {},
   "outputs": [
    {
     "data": {
      "text/plain": [
       "HeteroData(\n",
       "  \u001b[1mbook\u001b[0m={\n",
       "    num_nodes=1656,\n",
       "    y=[1656]\n",
       "  },\n",
       "  \u001b[1mfilm\u001b[0m={ num_nodes=19290 },\n",
       "  \u001b[1mmusic\u001b[0m={ num_nodes=81326 },\n",
       "  \u001b[1msports\u001b[0m={ num_nodes=875 },\n",
       "  \u001b[1mpeople\u001b[0m={ num_nodes=16569 },\n",
       "  \u001b[1mlocation\u001b[0m={ num_nodes=8494 },\n",
       "  \u001b[1morganization\u001b[0m={ num_nodes=1643 },\n",
       "  \u001b[1mbusiness\u001b[0m={ num_nodes=6051 },\n",
       "  \u001b[1m(book, and, book)\u001b[0m={ edge_index=[2, 1299] },\n",
       "  \u001b[1m(book, to, film)\u001b[0m={ edge_index=[2, 4812] },\n",
       "  \u001b[1m(book, on, sports)\u001b[0m={ edge_index=[2, 362] },\n",
       "  \u001b[1m(book, on, location)\u001b[0m={ edge_index=[2, 1268] },\n",
       "  \u001b[1m(book, about, organization)\u001b[0m={ edge_index=[2, 1069] },\n",
       "  \u001b[1m(film, and, film)\u001b[0m={ edge_index=[2, 87476] },\n",
       "  \u001b[1m(music, in, book)\u001b[0m={ edge_index=[2, 1684] },\n",
       "  \u001b[1m(music, in, film)\u001b[0m={ edge_index=[2, 11291] },\n",
       "  \u001b[1m(music, and, music)\u001b[0m={ edge_index=[2, 214573] },\n",
       "  \u001b[1m(music, for, sports)\u001b[0m={ edge_index=[2, 8975] },\n",
       "  \u001b[1m(music, on, location)\u001b[0m={ edge_index=[2, 42915] },\n",
       "  \u001b[1m(sports, in, film)\u001b[0m={ edge_index=[2, 6763] },\n",
       "  \u001b[1m(sports, and, sports)\u001b[0m={ edge_index=[2, 1277] },\n",
       "  \u001b[1m(sports, on, location)\u001b[0m={ edge_index=[2, 656] },\n",
       "  \u001b[1m(people, to, book)\u001b[0m={ edge_index=[2, 4015] },\n",
       "  \u001b[1m(people, to, film)\u001b[0m={ edge_index=[2, 17604] },\n",
       "  \u001b[1m(people, to, music)\u001b[0m={ edge_index=[2, 10948] },\n",
       "  \u001b[1m(people, to, sports)\u001b[0m={ edge_index=[2, 14850] },\n",
       "  \u001b[1m(people, and, people)\u001b[0m={ edge_index=[2, 22722] },\n",
       "  \u001b[1m(people, on, location)\u001b[0m={ edge_index=[2, 15134] },\n",
       "  \u001b[1m(people, in, organization)\u001b[0m={ edge_index=[2, 2215] },\n",
       "  \u001b[1m(people, in, business)\u001b[0m={ edge_index=[2, 5378] },\n",
       "  \u001b[1m(location, in, film)\u001b[0m={ edge_index=[2, 21299] },\n",
       "  \u001b[1m(location, and, location)\u001b[0m={ edge_index=[2, 45388] },\n",
       "  \u001b[1m(organization, in, film)\u001b[0m={ edge_index=[2, 13128] },\n",
       "  \u001b[1m(organization, to, music)\u001b[0m={ edge_index=[2, 10702] },\n",
       "  \u001b[1m(organization, to, sports)\u001b[0m={ edge_index=[2, 559] },\n",
       "  \u001b[1m(organization, on, location)\u001b[0m={ edge_index=[2, 2696] },\n",
       "  \u001b[1m(organization, and, organization)\u001b[0m={ edge_index=[2, 691] },\n",
       "  \u001b[1m(organization, for, business)\u001b[0m={ edge_index=[2, 1073] },\n",
       "  \u001b[1m(business, about, book)\u001b[0m={ edge_index=[2, 948] },\n",
       "  \u001b[1m(business, about, film)\u001b[0m={ edge_index=[2, 8397] },\n",
       "  \u001b[1m(business, about, music)\u001b[0m={ edge_index=[2, 24764] },\n",
       "  \u001b[1m(business, about, sports)\u001b[0m={ edge_index=[2, 610] },\n",
       "  \u001b[1m(business, on, location)\u001b[0m={ edge_index=[2, 6647] },\n",
       "  \u001b[1m(business, and, business)\u001b[0m={ edge_index=[2, 4151] }\n",
       ")"
      ]
     },
     "execution_count": 2,
     "metadata": {},
     "output_type": "execute_result"
    }
   ],
   "source": [
    "dataset = torch.load('processed/VolumeGenre.pt')\n",
    "dataset"
   ]
  },
  {
   "cell_type": "code",
   "execution_count": 3,
   "id": "8df430ec",
   "metadata": {},
   "outputs": [],
   "source": [
    "dataset_homo = dataset.to_homogeneous()"
   ]
  },
  {
   "cell_type": "code",
   "execution_count": 4,
   "id": "125a3c83",
   "metadata": {},
   "outputs": [
    {
     "name": "stdout",
     "output_type": "stream",
     "text": [
      "The number of node types: 8\n",
      "The number of edge types: 36\n",
      "The number of nodes: 135904\n",
      "The number of edges: 618339\n"
     ]
    }
   ],
   "source": [
    "print('The number of node types:', len(dataset.node_types))\n",
    "print('The number of edge types:', len(dataset.edge_types))\n",
    "print('The number of nodes:', dataset_homo.num_nodes)\n",
    "print('The number of edges:', dataset_homo.num_edges)"
   ]
  },
  {
   "cell_type": "markdown",
   "id": "276be694",
   "metadata": {},
   "source": [
    "### YAGO_AlmaMater"
   ]
  },
  {
   "cell_type": "code",
   "execution_count": 5,
   "id": "0cb4bbd5",
   "metadata": {},
   "outputs": [
    {
     "data": {
      "text/plain": [
       "HeteroData(\n",
       "  \u001b[1mperson\u001b[0m={\n",
       "    num_nodes=19200,\n",
       "    y=[19200]\n",
       "  },\n",
       "  \u001b[1mnationality\u001b[0m={ num_nodes=182 },\n",
       "  \u001b[1mplace\u001b[0m={ num_nodes=6817 },\n",
       "  \u001b[1mlanguage\u001b[0m={ num_nodes=109 },\n",
       "  \u001b[1minstitution\u001b[0m={ num_nodes=51 },\n",
       "  \u001b[1mparty\u001b[0m={ num_nodes=2260 },\n",
       "  \u001b[1mhonor\u001b[0m={ num_nodes=2472 },\n",
       "  \u001b[1moccupation\u001b[0m={ num_nodes=411 },\n",
       "  \u001b[1mfilm\u001b[0m={ num_nodes=22419 },\n",
       "  \u001b[1mepisode\u001b[0m={ num_nodes=3803 },\n",
       "  \u001b[1mbook\u001b[0m={ num_nodes=8026 },\n",
       "  \u001b[1mmusic\u001b[0m={ num_nodes=805 },\n",
       "  \u001b[1mcreation\u001b[0m={ num_nodes=1608 },\n",
       "  \u001b[1mliterature\u001b[0m={ num_nodes=333 },\n",
       "  \u001b[1mgame\u001b[0m={ num_nodes=60 },\n",
       "  \u001b[1morganization\u001b[0m={ num_nodes=946 },\n",
       "  \u001b[1mpublication\u001b[0m={ num_nodes=58 },\n",
       "  \u001b[1mproduction\u001b[0m={ num_nodes=6221 },\n",
       "  \u001b[1m(person, affiliate, institution)\u001b[0m={ edge_index=[2, 63] },\n",
       "  \u001b[1m(person, award, honor)\u001b[0m={ edge_index=[2, 20305] },\n",
       "  \u001b[1m(person, birth, place)\u001b[0m={ edge_index=[2, 17375] },\n",
       "  \u001b[1m(person, death, place)\u001b[0m={ edge_index=[2, 8467] },\n",
       "  \u001b[1m(person, hasOccupation, occupation)\u001b[0m={ edge_index=[2, 30662] },\n",
       "  \u001b[1m(person, home, place)\u001b[0m={ edge_index=[2, 2508] },\n",
       "  \u001b[1m(person, influence, person)\u001b[0m={ edge_index=[2, 36637] },\n",
       "  \u001b[1m(person, know, language)\u001b[0m={ edge_index=[2, 8471] },\n",
       "  \u001b[1m(person, memberOf, party)\u001b[0m={ edge_index=[2, 18426] },\n",
       "  \u001b[1m(person, of, nationality)\u001b[0m={ edge_index=[2, 20094] },\n",
       "  \u001b[1m(person, workFor, person)\u001b[0m={ edge_index=[2, 16] },\n",
       "  \u001b[1m(nationality, has, language)\u001b[0m={ edge_index=[2, 596] },\n",
       "  \u001b[1m(place, in, nationality)\u001b[0m={ edge_index=[2, 1024] },\n",
       "  \u001b[1m(institution, attach, party)\u001b[0m={ edge_index=[2, 478] },\n",
       "  \u001b[1m(occupation, at, institution)\u001b[0m={ edge_index=[2, 312] },\n",
       "  \u001b[1m(occupation, at, party)\u001b[0m={ edge_index=[2, 4700] },\n",
       "  \u001b[1m(film, actor, person)\u001b[0m={ edge_index=[2, 31927] },\n",
       "  \u001b[1m(film, director, person)\u001b[0m={ edge_index=[2, 6214] },\n",
       "  \u001b[1m(episode, bond, film)\u001b[0m={ edge_index=[2, 29886] },\n",
       "  \u001b[1m(episode, musicBy, person)\u001b[0m={ edge_index=[2, 3818] },\n",
       "  \u001b[1m(book, author, person)\u001b[0m={ edge_index=[2, 8219] },\n",
       "  \u001b[1m(music, composer, person)\u001b[0m={ edge_index=[2, 865] },\n",
       "  \u001b[1m(creation, about, person)\u001b[0m={ edge_index=[2, 139] },\n",
       "  \u001b[1m(creation, creator, person)\u001b[0m={ edge_index=[2, 1520] },\n",
       "  \u001b[1m(creation, on, book)\u001b[0m={ edge_index=[2, 3999] },\n",
       "  \u001b[1m(creation, on, episode)\u001b[0m={ edge_index=[2, 5092] },\n",
       "  \u001b[1m(creation, on, film)\u001b[0m={ edge_index=[2, 3357] },\n",
       "  \u001b[1m(literature, editor, person)\u001b[0m={ edge_index=[2, 348] },\n",
       "  \u001b[1m(literature, on, book)\u001b[0m={ edge_index=[2, 10698] },\n",
       "  \u001b[1m(game, competitor, person)\u001b[0m={ edge_index=[2, 76] },\n",
       "  \u001b[1m(organization, founder, person)\u001b[0m={ edge_index=[2, 1016] },\n",
       "  \u001b[1m(organization, in, place)\u001b[0m={ edge_index=[2, 6525] },\n",
       "  \u001b[1m(publication, from, institution)\u001b[0m={ edge_index=[2, 130] },\n",
       "  \u001b[1m(publication, publisher, person)\u001b[0m={ edge_index=[2, 58] },\n",
       "  \u001b[1m(production, on, episode)\u001b[0m={ edge_index=[2, 1795] },\n",
       "  \u001b[1m(production, on, film)\u001b[0m={ edge_index=[2, 32530] },\n",
       "  \u001b[1m(production, on, music)\u001b[0m={ edge_index=[2, 545] },\n",
       "  \u001b[1m(production, producer, person)\u001b[0m={ edge_index=[2, 6560] }\n",
       ")"
      ]
     },
     "execution_count": 5,
     "metadata": {},
     "output_type": "execute_result"
    }
   ],
   "source": [
    "dataset = torch.load('processed/AlmaMater.pt')\n",
    "dataset"
   ]
  },
  {
   "cell_type": "code",
   "execution_count": 6,
   "id": "a1bc0b4e",
   "metadata": {},
   "outputs": [],
   "source": [
    "dataset_homo = dataset.to_homogeneous()"
   ]
  },
  {
   "cell_type": "code",
   "execution_count": 7,
   "id": "48e63062",
   "metadata": {},
   "outputs": [
    {
     "name": "stdout",
     "output_type": "stream",
     "text": [
      "The number of node types: 18\n",
      "The number of edge types: 38\n",
      "The number of nodes: 75781\n",
      "The number of edges: 325451\n"
     ]
    }
   ],
   "source": [
    "print('The number of node types:', len(dataset.node_types))\n",
    "print('The number of edge types:', len(dataset.edge_types))\n",
    "print('The number of nodes:', dataset_homo.num_nodes)\n",
    "print('The number of edges:', dataset_homo.num_edges)"
   ]
  },
  {
   "cell_type": "markdown",
   "id": "6a8f1ddf",
   "metadata": {},
   "source": [
    "### DrugBank_DrugGroup"
   ]
  },
  {
   "cell_type": "code",
   "execution_count": 8,
   "id": "a0d5a9e5",
   "metadata": {},
   "outputs": [
    {
     "data": {
      "text/plain": [
       "HeteroData(\n",
       "  \u001b[1mdrug\u001b[0m={\n",
       "    num_nodes=14594,\n",
       "    y=[14594, 6]\n",
       "  },\n",
       "  \u001b[1mpaper\u001b[0m={ num_nodes=28786 },\n",
       "  \u001b[1mtargets\u001b[0m={ num_nodes=5231 },\n",
       "  \u001b[1mprotein\u001b[0m={ num_nodes=5204 },\n",
       "  \u001b[1mpathway\u001b[0m={ num_nodes=877 },\n",
       "  \u001b[1mmetabolite\u001b[0m={ num_nodes=1536 },\n",
       "  \u001b[1mpfam\u001b[0m={ num_nodes=2629 },\n",
       "  \u001b[1msalts\u001b[0m={ num_nodes=2578 },\n",
       "  \u001b[1mfunction\u001b[0m={ num_nodes=1521 },\n",
       "  \u001b[1morganism\u001b[0m={ num_nodes=591 },\n",
       "  \u001b[1mcategory\u001b[0m={ num_nodes=2163 },\n",
       "  \u001b[1mbrand\u001b[0m={ num_nodes=104552 },\n",
       "  \u001b[1mlabeller\u001b[0m={ num_nodes=20099 },\n",
       "  \u001b[1mgene\u001b[0m={ num_nodes=76 },\n",
       "  \u001b[1maction\u001b[0m={ num_nodes=56 },\n",
       "  \u001b[1m(drug, affect, organism)\u001b[0m={ edge_index=[2, 2448] },\n",
       "  \u001b[1m(drug, carrier, targets)\u001b[0m={ edge_index=[2, 870] },\n",
       "  \u001b[1m(drug, correspond, salts)\u001b[0m={ edge_index=[2, 2578] },\n",
       "  \u001b[1m(drug, effect, gene)\u001b[0m={ edge_index=[2, 176] },\n",
       "  \u001b[1m(drug, enzyme, targets)\u001b[0m={ edge_index=[2, 5441] },\n",
       "  \u001b[1m(drug, external, protein)\u001b[0m={ edge_index=[2, 55] },\n",
       "  \u001b[1m(drug, interaction, drug)\u001b[0m={ edge_index=[2, 1390398] },\n",
       "  \u001b[1m(drug, product, brand)\u001b[0m={ edge_index=[2, 200770] },\n",
       "  \u001b[1m(drug, reaction, metabolite)\u001b[0m={ edge_index=[2, 1590] },\n",
       "  \u001b[1m(drug, reaction, targets)\u001b[0m={ edge_index=[2, 1845] },\n",
       "  \u001b[1m(drug, reference, paper)\u001b[0m={ edge_index=[2, 14594] },\n",
       "  \u001b[1m(drug, target, targets)\u001b[0m={ edge_index=[2, 19028] },\n",
       "  \u001b[1m(drug, to, pathway)\u001b[0m={ edge_index=[2, 3780] },\n",
       "  \u001b[1m(drug, transporter, targets)\u001b[0m={ edge_index=[2, 3233] },\n",
       "  \u001b[1m(paper, and, paper)\u001b[0m={ edge_index=[2, 397616] },\n",
       "  \u001b[1m(targets, correspond, protein)\u001b[0m={ edge_index=[2, 5676] },\n",
       "  \u001b[1m(targets, reference, paper)\u001b[0m={ edge_index=[2, 30792] },\n",
       "  \u001b[1m(targets, to, organism)\u001b[0m={ edge_index=[2, 5188] },\n",
       "  \u001b[1m(targets, with, action)\u001b[0m={ edge_index=[2, 4447] },\n",
       "  \u001b[1m(protein, correspond, pfam)\u001b[0m={ edge_index=[2, 8947] },\n",
       "  \u001b[1m(protein, has, function)\u001b[0m={ edge_index=[2, 4842] },\n",
       "  \u001b[1m(protein, similarity, protein)\u001b[0m={ edge_index=[2, 25] },\n",
       "  \u001b[1m(pathway, to, drug)\u001b[0m={ edge_index=[2, 7438] },\n",
       "  \u001b[1m(pathway, to, protein)\u001b[0m={ edge_index=[2, 11655] },\n",
       "  \u001b[1m(metabolite, require, protein)\u001b[0m={ edge_index=[2, 2120] },\n",
       "  \u001b[1m(pfam, and, pfam)\u001b[0m={ edge_index=[2, 106186] },\n",
       "  \u001b[1m(salts, similarity, salts)\u001b[0m={ edge_index=[2, 87530] },\n",
       "  \u001b[1m(category, classify, drug)\u001b[0m={ edge_index=[2, 61604] },\n",
       "  \u001b[1m(brand, with, labeller)\u001b[0m={ edge_index=[2, 162399] },\n",
       "  \u001b[1m(gene, correspond, paper)\u001b[0m={ edge_index=[2, 146] },\n",
       "  \u001b[1m(gene, similarity, gene)\u001b[0m={ edge_index=[2, 89] }\n",
       ")"
      ]
     },
     "execution_count": 8,
     "metadata": {},
     "output_type": "execute_result"
    }
   ],
   "source": [
    "dataset = torch.load('processed/DrugGroup.pt')\n",
    "dataset"
   ]
  },
  {
   "cell_type": "code",
   "execution_count": 9,
   "id": "2d668fa3",
   "metadata": {},
   "outputs": [],
   "source": [
    "dataset_homo = dataset.to_homogeneous()"
   ]
  },
  {
   "cell_type": "code",
   "execution_count": 10,
   "id": "a0d0d465",
   "metadata": {},
   "outputs": [
    {
     "name": "stdout",
     "output_type": "stream",
     "text": [
      "The number of node types: 15\n",
      "The number of edge types: 31\n",
      "The number of nodes: 190493\n",
      "The number of edges: 2543506\n"
     ]
    }
   ],
   "source": [
    "print('The number of node types:', len(dataset.node_types))\n",
    "print('The number of edge types:', len(dataset.edge_types))\n",
    "print('The number of nodes:', dataset_homo.num_nodes)\n",
    "print('The number of edges:', dataset_homo.num_edges)"
   ]
  }
 ],
 "metadata": {
  "kernelspec": {
   "display_name": "Python 3 (ipykernel)",
   "language": "python",
   "name": "python3"
  },
  "language_info": {
   "codemirror_mode": {
    "name": "ipython",
    "version": 3
   },
   "file_extension": ".py",
   "mimetype": "text/x-python",
   "name": "python",
   "nbconvert_exporter": "python",
   "pygments_lexer": "ipython3",
   "version": "3.9.13"
  }
 },
 "nbformat": 4,
 "nbformat_minor": 5
}
